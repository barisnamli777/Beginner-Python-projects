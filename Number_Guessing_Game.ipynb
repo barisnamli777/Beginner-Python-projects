{
 "cells": [
  {
   "cell_type": "code",
   "execution_count": 119,
   "id": "5f571a05-942b-4bf4-9571-c853b26b3c67",
   "metadata": {},
   "outputs": [],
   "source": [
    "# In this game, the player has 7 lives. They are required to guess the number within 7 tries. \n",
    "# Otherwise, the game is lost.\n",
    "import random"
   ]
  },
  {
   "cell_type": "code",
   "execution_count": 121,
   "id": "bd02aad4-5341-4476-8985-05c6920784a4",
   "metadata": {},
   "outputs": [
    {
     "name": "stdin",
     "output_type": "stream",
     "text": [
      "Enter the lowest bound:  0\n",
      "Enter the highest bound:  100\n"
     ]
    }
   ],
   "source": [
    "low_n=int(input(\"Enter the lowest bound: \"))\n",
    "high_n=int(input(\"Enter the highest bound: \"))"
   ]
  },
  {
   "cell_type": "code",
   "execution_count": 123,
   "id": "5998bfe5-4c40-4d84-a36e-da5aa1ae9b7e",
   "metadata": {},
   "outputs": [],
   "source": [
    "realnumber=random.randint(low_n,high_n)"
   ]
  },
  {
   "cell_type": "code",
   "execution_count": 125,
   "id": "92640b63-073f-4abf-bf3c-625e4f4ec836",
   "metadata": {},
   "outputs": [
    {
     "name": "stdout",
     "output_type": "stream",
     "text": [
      "Your life is: 7\n"
     ]
    }
   ],
   "source": [
    "life=7\n",
    "print(f\"Your life is: {life}\")"
   ]
  },
  {
   "cell_type": "code",
   "execution_count": 127,
   "id": "10078aa9-d16e-42cf-803a-2cf649780dc3",
   "metadata": {},
   "outputs": [
    {
     "name": "stdin",
     "output_type": "stream",
     "text": [
      "Enter your guess:  50\n"
     ]
    },
    {
     "name": "stdout",
     "output_type": "stream",
     "text": [
      "The number is too high.Please try a lower number.\n",
      "Your life is: 6\n"
     ]
    },
    {
     "name": "stdin",
     "output_type": "stream",
     "text": [
      "Enter your guess:  50\n"
     ]
    },
    {
     "name": "stdout",
     "output_type": "stream",
     "text": [
      "The number is too high.Please try a lower number.\n",
      "Your life is: 5\n"
     ]
    },
    {
     "name": "stdin",
     "output_type": "stream",
     "text": [
      "Enter your guess:  50\n"
     ]
    },
    {
     "name": "stdout",
     "output_type": "stream",
     "text": [
      "The number is too high.Please try a lower number.\n",
      "Your life is: 4\n"
     ]
    },
    {
     "name": "stdin",
     "output_type": "stream",
     "text": [
      "Enter your guess:  50\n"
     ]
    },
    {
     "name": "stdout",
     "output_type": "stream",
     "text": [
      "The number is too high.Please try a lower number.\n",
      "Your life is: 3\n"
     ]
    },
    {
     "name": "stdin",
     "output_type": "stream",
     "text": [
      "Enter your guess:  50\n"
     ]
    },
    {
     "name": "stdout",
     "output_type": "stream",
     "text": [
      "The number is too high.Please try a lower number.\n",
      "Your life is: 2\n"
     ]
    },
    {
     "name": "stdin",
     "output_type": "stream",
     "text": [
      "Enter your guess:  50\n"
     ]
    },
    {
     "name": "stdout",
     "output_type": "stream",
     "text": [
      "The number is too high.Please try a lower number.\n",
      "Your life is: 1\n"
     ]
    },
    {
     "name": "stdin",
     "output_type": "stream",
     "text": [
      "Enter your guess:  50\n"
     ]
    },
    {
     "name": "stdout",
     "output_type": "stream",
     "text": [
      "The number is too high.Please try a lower number.\n",
      "Your life is: 0\n",
      "You lost the game.\n",
      "The guessed number is: 3\n"
     ]
    }
   ],
   "source": [
    "while life>0:\n",
    "    guess=int(input(\"Enter your guess: \"))\n",
    "    if guess==realnumber:\n",
    "        print(\"You won.\")\n",
    "        break\n",
    "    elif guess>realnumber:\n",
    "        print(\"The number is too high.Please try a lower number.\")\n",
    "    else:\n",
    "        print(\"The number is too lower.Please try a higher number.\")\n",
    "    life=life-1\n",
    "    print(f\"Your life is: {life}\")\n",
    "if life==0:\n",
    "    print(\"You lost the game.\")\n",
    "    print(f\"The guessed number is: {realnumber}\")"
   ]
  },
  {
   "cell_type": "code",
   "execution_count": null,
   "id": "6f5d8203-3eb7-46a0-a20e-c8260d556473",
   "metadata": {},
   "outputs": [],
   "source": []
  }
 ],
 "metadata": {
  "kernelspec": {
   "display_name": "Python [conda env:base] *",
   "language": "python",
   "name": "conda-base-py"
  },
  "language_info": {
   "codemirror_mode": {
    "name": "ipython",
    "version": 3
   },
   "file_extension": ".py",
   "mimetype": "text/x-python",
   "name": "python",
   "nbconvert_exporter": "python",
   "pygments_lexer": "ipython3",
   "version": "3.12.4"
  }
 },
 "nbformat": 4,
 "nbformat_minor": 5
}
